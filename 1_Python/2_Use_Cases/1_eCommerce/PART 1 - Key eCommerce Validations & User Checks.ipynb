{
 "cells": [
  {
   "cell_type": "markdown",
   "metadata": {},
   "source": [
    "# Key eCommerce Validations & User Checks\n",
    "# Part 1(1 - 10)"
   ]
  },
  {
   "cell_type": "markdown",
   "metadata": {},
   "source": [
    "## [1. Check Free Delivery Eligibility](#cell1a) <a id=\"cell1\"></a>"
   ]
  },
  {
   "cell_type": "markdown",
   "metadata": {},
   "source": [
    "## 🛒 Requirement: Free Delivery Eligibility Based on Cart Total\n",
    "\n",
    "### 🎯 Objective: \n",
    "\n",
    "- Determine whether a customer qualifies for free delivery based on their cart total amount.\n",
    "\n",
    "### 🚀 Workflow: Free Delivery Check Based on Cart Value\n",
    "\n",
    "1. **Take input**: Ask user to enter cart total.  \n",
    "2. **Convert to float**: Change the input to a float number.  \n",
    "3. **Check condition**: See if cart total is more than ₹500.  \n",
    "4. **If true**: Show message for free delivery.  \n",
    "5. **If false**: Show message that ₹50 delivery charge applies."
   ]
  },
  {
   "cell_type": "markdown",
   "metadata": {},
   "source": [
    "## [2. Validate Login Password](#cell2a) <a id=\"cell2\"></a>"
   ]
  },
  {
   "cell_type": "markdown",
   "metadata": {},
   "source": [
    "## 🔐 Requirement: Secure Login with Limited Attempts\n",
    "\n",
    "### 🎯 Objective: \n",
    "\n",
    "- Allow a user to log in by verifying a password, limiting the number of attempts to 3 for security.\n",
    "\n",
    "### 🚀 Workflow: Login Attempt Validation\n",
    "\n",
    "1. **Set correct password**: Define the correct password as `\"admin@123\"`.  \n",
    "2. **Initialize attempts**: Start a counter with `attempts = 0`.  \n",
    "3. **Loop for attempts**: Use a `while` loop to allow maximum of 3 tries.  \n",
    "4. **Take input**: Prompt the user to enter their password.  \n",
    "5. **Check match**: If input matches the correct password, show success message and exit loop.  \n",
    "6. **Handle wrong input**: If incorrect, show error and increase `attempts` by 1.  \n",
    "7. **After 3 failures**: If attempts reach 3, show account locked message."
   ]
  },
  {
   "cell_type": "markdown",
   "metadata": {},
   "source": [
    "## [3. Apply Coupon Code Discount](#cell3a) <a id=\"cell3\"></a>"
   ]
  },
  {
   "cell_type": "markdown",
   "metadata": {},
   "source": [
    "## 🎟️ Requirement: Coupon Code Validation and Benefits\n",
    "\n",
    "### 🎯 Objective:\n",
    "\n",
    "- Determine the type of benefit (discount or free shipping) based on the coupon code entered by the user.\n",
    "\n",
    "### 🚀 Workflow: Coupon Code Check\n",
    "\n",
    "1. **Take coupon input**: Ask user to enter a coupon code.  \n",
    "2. **Clean input**: Remove extra spaces and convert to uppercase.  \n",
    "3. **Check for \"SAVE10\"**: If matched, apply 10% discount.  \n",
    "4. **Check for \"SAVE20\"**: If matched, apply 20% discount.  \n",
    "5. **Check for \"FREESHIP\"**: If matched, apply free shipping.  \n",
    "6. **If no match**: Show \"Invalid coupon\" message.\n"
   ]
  },
  {
   "cell_type": "markdown",
   "metadata": {},
   "source": [
    "## [4. Check Product Stock Before Ordering](#cell4a) <a id=\"cell4\"></a>"
   ]
  },
  {
   "cell_type": "markdown",
   "metadata": {},
   "source": [
    "## 📦 Requirement: Stock Availability Check Before Order Placement\n",
    "\n",
    "### 🎯 Objective:\n",
    "\n",
    "- Ensure the requested quantity does not exceed the available stock before confirming the order.\n",
    "\n",
    "### 🚀 Workflow: Stock Check\n",
    "\n",
    "1. **Set available stock**: Define current stock as `8`.  \n",
    "2. **Take order input**: Ask user to enter desired quantity.  \n",
    "3. **Convert input**: Change the input to an integer using `int()`.  \n",
    "4. **Check stock availability**: Compare requested quantity with available stock.  \n",
    "5. **If sufficient**: If requested is less than or equal to stock, confirm order.  \n",
    "6. **If insufficient**: If requested exceeds stock, prompt user to reduce quantity.\n"
   ]
  },
  {
   "cell_type": "markdown",
   "metadata": {},
   "source": [
    "## [5. Determine User Level](#cell5a) <a id=\"cell5\"></a>"
   ]
  },
  {
   "cell_type": "markdown",
   "metadata": {},
   "source": [
    "## 🏅 Requirement: Loyalty Membership Tier Classification\n",
    "\n",
    "### 🎯 Objective:\n",
    "\n",
    "- Classify users into Gold, Silver, or Bronze membership tiers based on their loyalty points.\n",
    "\n",
    "### 🚀 Workflow: Loyalty Membership Check\n",
    "\n",
    "1. **Take input**: Ask user to enter their loyalty points.  \n",
    "2. **Convert input**: Convert the entered value to an integer using `int()`.  \n",
    "3. **Check for Gold**: If points are 1000 or more, label as \"Gold Member\".  \n",
    "4. **Check for Silver**: If points are 500 or more (but less than 1000), label as \"Silver Member\".  \n",
    "5. **Else Bronze**: If points are below 500, label as \"Bronze Member\"."
   ]
  },
  {
   "cell_type": "markdown",
   "metadata": {},
   "source": [
    "## [6. Validate Email Format](#cell6a) <a id=\"cell6\"></a>"
   ]
  },
  {
   "cell_type": "markdown",
   "metadata": {},
   "source": [
    "## 📧 Requirement: Basic Email Format Validation\n",
    "\n",
    "### 🎯 Objective:\n",
    "\n",
    "- Verify if the entered email address follows a basic format containing both \"@\" and \".\".\n",
    "\n",
    "### 🚀 Workflow: Email Format Validation\n",
    "\n",
    "1. **Take input**: Ask user to enter their email address.  \n",
    "2. **Check for '@' and '.'**: Ensure the input contains both \"@\" and \".\".  \n",
    "3. **If valid**: If both symbols are present, print \"Valid email address\".  \n",
    "4. **If invalid**: If either symbol is missing, print \"Invalid email format\"."
   ]
  },
  {
   "cell_type": "markdown",
   "metadata": {},
   "source": [
    "## [7. Validate Mobile Number Length](#cell7a) <a id=\"cell7\"></a>"
   ]
  },
  {
   "cell_type": "markdown",
   "metadata": {},
   "source": [
    "## 📱 Requirement: Mobile Number Validation\n",
    "\n",
    "### 🎯 Objective:\n",
    "\n",
    "- Ensure the entered mobile number is exactly 10 digits long and contains only numeric characters.\n",
    "\n",
    "### 🚀 Workflow: Mobile Number Validation\n",
    "\n",
    "1. **Take input**: Ask user to enter their mobile number.  \n",
    "2. **Check length**: Ensure the number has exactly 10 digits using `len(mobile) == 10`.  \n",
    "3. **Check digits only**: Ensure the input contains only digits using `mobile.isdigit()`.  \n",
    "4. **If valid**: If both checks pass, print \"Valid mobile number\".  \n",
    "5. **If invalid**: If either check fails, print \"Invalid mobile number\"."
   ]
  },
  {
   "cell_type": "markdown",
   "metadata": {},
   "source": [
    "## [8. Check Payment Method Availability](#cell8a) <a id=\"cell8\"></a>"
   ]
  },
  {
   "cell_type": "markdown",
   "metadata": {},
   "source": [
    "## 💳 Requirement: Payment Method Validation\n",
    "\n",
    "### 🎯 Objective:\n",
    "\n",
    "- Ensure the user selects a valid payment method from the supported options: UPI, COD, or Card.\n",
    "\n",
    "### 🚀 Workflow: Payment Method Validation\n",
    "\n",
    "1. **Take input**: Ask user to choose a payment method (UPI, COD, Card).  \n",
    "2. **Convert to uppercase**: Change input to uppercase for uniform comparison.  \n",
    "3. **Check valid methods**: Verify if the input is in the list `[\"UPI\", \"COD\", \"CARD\"]`.  \n",
    "4. **If valid**: Print confirmation that the payment method is accepted.  \n",
    "5. **If invalid**: Print message indicating invalid payment met\n"
   ]
  },
  {
   "cell_type": "markdown",
   "metadata": {},
   "source": [
    "## [9. Offer EMI Option](#cell9a) <a id=\"cell9\"></a>"
   ]
  },
  {
   "cell_type": "markdown",
   "metadata": {},
   "source": [
    "## 🧾 Requirement: EMI Eligibility Based on Bill Amount\n",
    "\n",
    "### 🎯 Objective:\n",
    "\n",
    "- Determine whether the customer is eligible for EMI options based on the total bill amount.\n",
    "\n",
    "### 🚀 Workflow: EMI Eligibility Check\n",
    "\n",
    "1. **Take input**: Ask user to enter their bill amount.  \n",
    "2. **Convert to float**: Convert the input string to a floating-point number.  \n",
    "3. **Check amount**: If bill amount is ₹5000 or more, EMI is available.  \n",
    "4. **If eligible**: Print \"EMI options available\".  \n",
    "5. **If not eligible**: Print \"EMI not applicable\".\n"
   ]
  },
  {
   "cell_type": "markdown",
   "metadata": {},
   "source": [
    "## [10. Check COD Availability by Pin Code](#cell10a) <a id=\"cell10\"></a>"
   ]
  },
  {
   "cell_type": "markdown",
   "metadata": {},
   "source": [
    "## 📮 Requirement: COD Availability Based on Pin Code\n",
    "\n",
    "### 🎯 Objective:\n",
    "\n",
    "- Check whether Cash on Delivery (COD) is available for the user's entered pin code.\n",
    "\n",
    "### 🚀 Workflow: COD Availability Check\n",
    "\n",
    "1. **Define pin codes**: Create a list of pin codes where COD is available.  \n",
    "2. **Take input**: Ask user to enter their delivery pin code.  \n",
    "3. **Convert to int**: Convert the input to an integer.  \n",
    "4. **Check availability**: See if the entered pin code is in the COD list.  \n",
    "5. **If available**: Print \"COD available\".  \n",
    "6. **If not available**: Print \"COD not available in your area\".\n"
   ]
  },
  {
   "cell_type": "code",
   "execution_count": null,
   "metadata": {},
   "outputs": [],
   "source": []
  },
  {
   "cell_type": "markdown",
   "metadata": {},
   "source": [
    "## [1. Check Free Delivery Eligibility](#cell1) <a id=\"cell1a\"></a>"
   ]
  },
  {
   "cell_type": "markdown",
   "metadata": {},
   "source": [
    "## 🛒 Requirement: Free Delivery Eligibility Based on Cart Total\n",
    "\n",
    "### 🎯 Objective: \n",
    "\n",
    "- Determine whether a customer qualifies for free delivery based on their cart total amount.\n",
    "\n",
    "### 🚀 Workflow: Free Delivery Check Based on Cart Value\n",
    "\n",
    "1. **Take input**: Ask user to enter cart total.  \n",
    "2. **Convert to float**: Change the input to a float number.  \n",
    "3. **Check condition**: See if cart total is more than ₹500.  \n",
    "4. **If true**: Show message for free delivery.  \n",
    "5. **If false**: Show message that ₹50 delivery charge applies."
   ]
  },
  {
   "cell_type": "code",
   "execution_count": 1,
   "metadata": {},
   "outputs": [
    {
     "name": "stdout",
     "output_type": "stream",
     "text": [
      "You are eligible for free delivery!\n"
     ]
    }
   ],
   "source": [
    "cart_total = 600\n",
    "\n",
    "if cart_total > 500:\n",
    "    print(\"You are eligible for free delivery!\")\n",
    "else:\n",
    "    print(\"Delivery charge ₹50 will be added.\")\n"
   ]
  },
  {
   "cell_type": "code",
   "execution_count": 2,
   "metadata": {},
   "outputs": [
    {
     "name": "stdout",
     "output_type": "stream",
     "text": [
      "Delivery charge ₹50 will be added.\n"
     ]
    }
   ],
   "source": [
    "cart_total = 400\n",
    "\n",
    "if cart_total > 500:\n",
    "    print(\"You are eligible for free delivery!\")\n",
    "else:\n",
    "    print(\"Delivery charge ₹50 will be added.\")"
   ]
  },
  {
   "cell_type": "markdown",
   "metadata": {},
   "source": [
    "## [2. Validate Login Password](#cell2) <a id=\"cell2a\"></a>"
   ]
  },
  {
   "cell_type": "markdown",
   "metadata": {},
   "source": [
    "## 🔐 Requirement: Secure Login with Limited Attempts\n",
    "\n",
    "### 🎯 Objective: \n",
    "\n",
    "- Allow a user to log in by verifying a password, limiting the number of attempts to 3 for security.\n",
    "\n",
    "### 🚀 Workflow: Login Attempt Validation\n",
    "\n",
    "1. **Set correct password**: Define the correct password as `\"admin@123\"`.  \n",
    "2. **Initialize attempts**: Start a counter with `attempts = 0`.  \n",
    "3. **Loop for attempts**: Use a `while` loop to allow maximum of 3 tries.  \n",
    "4. **Take input**: Prompt the user to enter their password.  \n",
    "5. **Check match**: If input matches the correct password, show success message and exit loop.  \n",
    "6. **Handle wrong input**: If incorrect, show error and increase `attempts` by 1.  \n",
    "7. **After 3 failures**: If attempts reach 3, show account locked message."
   ]
  },
  {
   "cell_type": "code",
   "execution_count": 3,
   "metadata": {},
   "outputs": [
    {
     "name": "stdout",
     "output_type": "stream",
     "text": [
      "Login successful!\n"
     ]
    }
   ],
   "source": [
    "correct_password = \"admin@123\"\n",
    "attempts = 0\n",
    "\n",
    "while attempts < 3:\n",
    "    password = \"admin@123\"\n",
    "    if password == correct_password:\n",
    "        print(\"Login successful!\")\n",
    "        break\n",
    "    else:\n",
    "        print(\"Incorrect password.\")\n",
    "        attempts += 1\n",
    "        \n",
    "if attempts == 3:\n",
    "    print(\"Account locked due to too many failed attempts.\")"
   ]
  },
  {
   "cell_type": "markdown",
   "metadata": {},
   "source": [
    "## [3. Apply Coupon Code Discount](#cell3) <a id=\"cell3a\"></a>"
   ]
  },
  {
   "cell_type": "markdown",
   "metadata": {},
   "source": [
    "## 🎟️ Requirement: Coupon Code Validation and Benefits\n",
    "\n",
    "### 🎯 Objective:\n",
    "\n",
    "- Determine the type of benefit (discount or free shipping) based on the coupon code entered by the user.\n",
    "\n",
    "### 🚀 Workflow: Coupon Code Check\n",
    "\n",
    "1. **Take coupon input**: Ask user to enter a coupon code.  \n",
    "2. **Clean input**: Remove extra spaces and convert to uppercase.  \n",
    "3. **Check for \"SAVE10\"**: If matched, apply 10% discount.  \n",
    "4. **Check for \"SAVE20\"**: If matched, apply 20% discount.  \n",
    "5. **Check for \"FREESHIP\"**: If matched, apply free shipping.  \n",
    "6. **If no match**: Show \"Invalid coupon\" message.\n"
   ]
  },
  {
   "cell_type": "code",
   "execution_count": 4,
   "metadata": {},
   "outputs": [
    {
     "name": "stdout",
     "output_type": "stream",
     "text": [
      "10% discount applied.\n"
     ]
    }
   ],
   "source": [
    "coupon = \"SAVE10\".strip().upper()\n",
    "\n",
    "if coupon == \"SAVE10\":\n",
    "    print(\"10% discount applied.\")\n",
    "elif coupon == \"SAVE20\":\n",
    "    print(\"20% discount applied.\")\n",
    "elif coupon == \"FREESHIP\":\n",
    "    print(\"Free shipping applied.\")\n",
    "else:\n",
    "    print(\"Invalid coupon.\")"
   ]
  },
  {
   "cell_type": "code",
   "execution_count": 5,
   "metadata": {},
   "outputs": [
    {
     "name": "stdout",
     "output_type": "stream",
     "text": [
      "20% discount applied.\n"
     ]
    }
   ],
   "source": [
    "coupon = \"SAVE20\".strip().upper()\n",
    "\n",
    "if coupon == \"SAVE10\":\n",
    "    print(\"10% discount applied.\")\n",
    "elif coupon == \"SAVE20\":\n",
    "    print(\"20% discount applied.\")\n",
    "elif coupon == \"FREESHIP\":\n",
    "    print(\"Free shipping applied.\")\n",
    "else:\n",
    "    print(\"Invalid coupon.\")"
   ]
  },
  {
   "cell_type": "code",
   "execution_count": 6,
   "metadata": {},
   "outputs": [
    {
     "name": "stdout",
     "output_type": "stream",
     "text": [
      "Free shipping applied.\n"
     ]
    }
   ],
   "source": [
    "coupon = \"FREESHIP\".strip().upper()\n",
    "\n",
    "if coupon == \"SAVE10\":\n",
    "    print(\"10% discount applied.\")\n",
    "elif coupon == \"SAVE20\":\n",
    "    print(\"20% discount applied.\")\n",
    "elif coupon == \"FREESHIP\":\n",
    "    print(\"Free shipping applied.\")\n",
    "else:\n",
    "    print(\"Invalid coupon.\")"
   ]
  },
  {
   "cell_type": "code",
   "execution_count": 7,
   "metadata": {},
   "outputs": [
    {
     "name": "stdout",
     "output_type": "stream",
     "text": [
      "Invalid coupon.\n"
     ]
    }
   ],
   "source": [
    "coupon = \"hello\".strip().upper()\n",
    "\n",
    "if coupon == \"SAVE10\":\n",
    "    print(\"10% discount applied.\")\n",
    "elif coupon == \"SAVE20\":\n",
    "    print(\"20% discount applied.\")\n",
    "elif coupon == \"FREESHIP\":\n",
    "    print(\"Free shipping applied.\")\n",
    "else:\n",
    "    print(\"Invalid coupon.\")"
   ]
  },
  {
   "cell_type": "markdown",
   "metadata": {},
   "source": [
    "## [4. Check Product Stock Before Ordering](#cell4) <a id=\"cell4a\"></a>"
   ]
  },
  {
   "cell_type": "markdown",
   "metadata": {},
   "source": [
    "## 📦 Requirement: Stock Availability Check Before Order Placement\n",
    "\n",
    "### 🎯 Objective:\n",
    "\n",
    "- Ensure the requested quantity does not exceed the available stock before confirming the order.\n",
    "\n",
    "### 🚀 Workflow: Stock Check\n",
    "\n",
    "1. **Set available stock**: Define current stock as `8`.  \n",
    "2. **Take order input**: Ask user to enter desired quantity.  \n",
    "3. **Convert input**: Change the input to an integer using `int()`.  \n",
    "4. **Check stock availability**: Compare requested quantity with available stock.  \n",
    "5. **If sufficient**: If requested is less than or equal to stock, confirm order.  \n",
    "6. **If insufficient**: If requested exceeds stock, prompt user to reduce quantity."
   ]
  },
  {
   "cell_type": "code",
   "execution_count": 8,
   "metadata": {},
   "outputs": [
    {
     "name": "stdout",
     "output_type": "stream",
     "text": [
      "Order placed successfully!\n"
     ]
    }
   ],
   "source": [
    "stock = 8\n",
    "requested = 6\n",
    "\n",
    "if requested <= stock:\n",
    "    print(\"Order placed successfully!\")\n",
    "else:\n",
    "    print(\"Not enough stock. Please reduce quantity.\")"
   ]
  },
  {
   "cell_type": "code",
   "execution_count": 9,
   "metadata": {},
   "outputs": [
    {
     "name": "stdout",
     "output_type": "stream",
     "text": [
      "Not enough stock. Please reduce quantity.\n"
     ]
    }
   ],
   "source": [
    "stock = 8\n",
    "requested = 9\n",
    "\n",
    "if requested <= stock:\n",
    "    print(\"Order placed successfully!\")\n",
    "else:\n",
    "    print(\"Not enough stock. Please reduce quantity.\")"
   ]
  },
  {
   "cell_type": "markdown",
   "metadata": {},
   "source": [
    "## [5. Determine User Level](#cell5) <a id=\"cell5a\"></a>"
   ]
  },
  {
   "cell_type": "markdown",
   "metadata": {},
   "source": [
    "## 🏅 Requirement: Loyalty Membership Tier Classification\n",
    "\n",
    "### 🎯 Objective:\n",
    "\n",
    "- Classify users into Gold, Silver, or Bronze membership tiers based on their loyalty points.\n",
    "\n",
    "### 🚀 Workflow: Loyalty Membership Check\n",
    "\n",
    "1. **Take input**: Ask user to enter their loyalty points.  \n",
    "2. **Convert input**: Convert the entered value to an integer using `int()`.  \n",
    "3. **Check for Gold**: If points are 1000 or more, label as \"Gold Member\".  \n",
    "4. **Check for Silver**: If points are 500 or more (but less than 1000), label as \"Silver Member\".  \n",
    "5. **Else Bronze**: If points are below 500, label as \"Bronze Member\"."
   ]
  },
  {
   "cell_type": "code",
   "execution_count": 10,
   "metadata": {},
   "outputs": [
    {
     "name": "stdout",
     "output_type": "stream",
     "text": [
      "Gold Member\n"
     ]
    }
   ],
   "source": [
    "points = 1100\n",
    "\n",
    "if points >= 1000:\n",
    "    print(\"Gold Member\")\n",
    "elif points >= 500:\n",
    "    print(\"Silver Member\")\n",
    "else:\n",
    "    print(\"Bronze Member\")"
   ]
  },
  {
   "cell_type": "code",
   "execution_count": 11,
   "metadata": {},
   "outputs": [
    {
     "name": "stdout",
     "output_type": "stream",
     "text": [
      "Silver Member\n"
     ]
    }
   ],
   "source": [
    "points = 600\n",
    "\n",
    "if points >= 1000:\n",
    "    print(\"Gold Member\")\n",
    "elif points >= 500:\n",
    "    print(\"Silver Member\")\n",
    "else:\n",
    "    print(\"Bronze Member\")"
   ]
  },
  {
   "cell_type": "code",
   "execution_count": 12,
   "metadata": {},
   "outputs": [
    {
     "name": "stdout",
     "output_type": "stream",
     "text": [
      "Bronze Member\n"
     ]
    }
   ],
   "source": [
    "points = 400\n",
    "\n",
    "if points >= 1000:\n",
    "    print(\"Gold Member\")\n",
    "elif points >= 500:\n",
    "    print(\"Silver Member\")\n",
    "else:\n",
    "    print(\"Bronze Member\")"
   ]
  },
  {
   "cell_type": "markdown",
   "metadata": {},
   "source": [
    "## [6. Validate Email Format](#cell6) <a id=\"cell6a\"></a>"
   ]
  },
  {
   "cell_type": "markdown",
   "metadata": {},
   "source": [
    "## 📧 Requirement: Basic Email Format Validation\n",
    "\n",
    "### 🎯 Objective:\n",
    "\n",
    "- Verify if the entered email address follows a basic format containing both \"@\" and \".\".\n",
    "\n",
    "### 🚀 Workflow: Email Format Validation\n",
    "\n",
    "1. **Take input**: Ask user to enter their email address.  \n",
    "2. **Check for '@' and '.'**: Ensure the input contains both \"@\" and \".\".  \n",
    "3. **If valid**: If both symbols are present, print \"Valid email address\".  \n",
    "4. **If invalid**: If either symbol is missing, print \"Invalid email format\"."
   ]
  },
  {
   "cell_type": "code",
   "execution_count": 13,
   "metadata": {},
   "outputs": [
    {
     "name": "stdout",
     "output_type": "stream",
     "text": [
      "Invalid email format\n"
     ]
    }
   ],
   "source": [
    "email = \"abc2.com\"\n",
    "\n",
    "if \"@\" in email and \".\" in email:\n",
    "    print(\"Valid email address\")\n",
    "else:\n",
    "    print(\"Invalid email format\")"
   ]
  },
  {
   "cell_type": "code",
   "execution_count": 14,
   "metadata": {},
   "outputs": [
    {
     "name": "stdout",
     "output_type": "stream",
     "text": [
      "Valid email address\n"
     ]
    }
   ],
   "source": [
    "email = \"daniel@gmail.com\"\n",
    "\n",
    "if \"@\" in email and \".\" in email:\n",
    "    print(\"Valid email address\")\n",
    "else:\n",
    "    print(\"Invalid email format\")"
   ]
  },
  {
   "cell_type": "markdown",
   "metadata": {},
   "source": [
    "## [7. Validate Mobile Number Length](#cell7) <a id=\"cell7a\"></a>"
   ]
  },
  {
   "cell_type": "markdown",
   "metadata": {},
   "source": [
    "## 📱 Requirement: Mobile Number Validation\n",
    "\n",
    "### 🎯 Objective:\n",
    "\n",
    "- Ensure the entered mobile number is exactly 10 digits long and contains only numeric characters.\n",
    "\n",
    "### 🚀 Workflow: Mobile Number Validation\n",
    "\n",
    "1. **Take input**: Ask user to enter their mobile number.  \n",
    "2. **Check length**: Ensure the number has exactly 10 digits using `len(mobile) == 10`.  \n",
    "3. **Check digits only**: Ensure the input contains only digits using `mobile.isdigit()`.  \n",
    "4. **If valid**: If both checks pass, print \"Valid mobile number\".  \n",
    "5. **If invalid**: If either check fails, print \"Invalid mobile number\"."
   ]
  },
  {
   "cell_type": "code",
   "execution_count": 15,
   "metadata": {},
   "outputs": [
    {
     "name": "stdout",
     "output_type": "stream",
     "text": [
      "Valid mobile number\n"
     ]
    }
   ],
   "source": [
    "mobile = \"1234567899\"\n",
    "\n",
    "if len(mobile) == 10 and mobile.isdigit():\n",
    "    print(\"Valid mobile number\")\n",
    "else:\n",
    "    print(\"Invalid mobile number\")"
   ]
  },
  {
   "cell_type": "code",
   "execution_count": 16,
   "metadata": {},
   "outputs": [
    {
     "name": "stdout",
     "output_type": "stream",
     "text": [
      "Invalid mobile number\n"
     ]
    }
   ],
   "source": [
    "mobile = \"123456789\"\n",
    "\n",
    "if len(mobile) == 10 and mobile.isdigit():\n",
    "    print(\"Valid mobile number\")\n",
    "else:\n",
    "    print(\"Invalid mobile number\")"
   ]
  },
  {
   "cell_type": "markdown",
   "metadata": {},
   "source": [
    "## [8. Check Payment Method Availability](#cell8) <a id=\"cell8a\"></a>"
   ]
  },
  {
   "cell_type": "markdown",
   "metadata": {},
   "source": [
    "## 💳 Requirement: Payment Method Validation\n",
    "\n",
    "### 🎯 Objective:\n",
    "\n",
    "- Ensure the user selects a valid payment method from the supported options: UPI, COD, or Card.\n",
    "\n",
    "### 🚀 Workflow: Payment Method Validation\n",
    "\n",
    "1. **Take input**: Ask user to choose a payment method (UPI, COD, Card).  \n",
    "2. **Convert to uppercase**: Change input to uppercase for uniform comparison.  \n",
    "3. **Check valid methods**: Verify if the input is in the list `[\"UPI\", \"COD\", \"CARD\"]`.  \n",
    "4. **If valid**: Print confirmation that the payment method is accepted.  \n",
    "5. **If invalid**: Print message indicating invalid payment met\n"
   ]
  },
  {
   "cell_type": "code",
   "execution_count": 17,
   "metadata": {},
   "outputs": [
    {
     "name": "stdout",
     "output_type": "stream",
     "text": [
      "Payment method UPI is accepted.\n"
     ]
    }
   ],
   "source": [
    "payment_method = \"upi\".upper()\n",
    "\n",
    "if payment_method in [\"UPI\", \"COD\", \"CARD\"]:\n",
    "    print(f\"Payment method {payment_method} is accepted.\")\n",
    "else:\n",
    "    print(\"Invalid payment method.\")"
   ]
  },
  {
   "cell_type": "code",
   "execution_count": 18,
   "metadata": {},
   "outputs": [
    {
     "name": "stdout",
     "output_type": "stream",
     "text": [
      "Payment method COD is accepted.\n"
     ]
    }
   ],
   "source": [
    "payment_method = \"COD\"\n",
    "\n",
    "if payment_method in [\"UPI\", \"COD\", \"CARD\"]:\n",
    "    print(f\"Payment method {payment_method} is accepted.\")\n",
    "else:\n",
    "    print(\"Invalid payment method.\")"
   ]
  },
  {
   "cell_type": "code",
   "execution_count": 19,
   "metadata": {},
   "outputs": [
    {
     "name": "stdout",
     "output_type": "stream",
     "text": [
      "Invalid payment method.\n"
     ]
    }
   ],
   "source": [
    "payment_method = \"hello\"\n",
    "\n",
    "if payment_method in [\"UPI\", \"COD\", \"CARD\"]:\n",
    "    print(f\"Payment method {payment_method} is accepted.\")\n",
    "else:\n",
    "    print(\"Invalid payment method.\")"
   ]
  },
  {
   "cell_type": "markdown",
   "metadata": {},
   "source": [
    "## [9. Offer EMI Option](#cell9) <a id=\"cell9a\"></a>"
   ]
  },
  {
   "cell_type": "markdown",
   "metadata": {},
   "source": [
    "## 🧾 Requirement: EMI Eligibility Based on Bill Amount\n",
    "\n",
    "### 🎯 Objective:\n",
    "\n",
    "- Determine whether the customer is eligible for EMI options based on the total bill amount.\n",
    "\n",
    "### 🚀 Workflow: EMI Eligibility Check\n",
    "\n",
    "1. **Take input**: Ask user to enter their bill amount.  \n",
    "2. **Convert to float**: Convert the input string to a floating-point number.  \n",
    "3. **Check amount**: If bill amount is ₹5000 or more, EMI is available.  \n",
    "4. **If eligible**: Print \"EMI options available\".  \n",
    "5. **If not eligible**: Print \"EMI not applicable\".\n"
   ]
  },
  {
   "cell_type": "code",
   "execution_count": 20,
   "metadata": {},
   "outputs": [
    {
     "name": "stdout",
     "output_type": "stream",
     "text": [
      "EMI options available\n"
     ]
    }
   ],
   "source": [
    "bill_amount = 6000\n",
    "\n",
    "if bill_amount >= 5000:\n",
    "    print(\"EMI options available\")\n",
    "else:\n",
    "    print(\"EMI not applicable\")"
   ]
  },
  {
   "cell_type": "code",
   "execution_count": 21,
   "metadata": {},
   "outputs": [
    {
     "name": "stdout",
     "output_type": "stream",
     "text": [
      "EMI not applicable\n"
     ]
    }
   ],
   "source": [
    "bill_amount = 4000\n",
    "\n",
    "if bill_amount >= 5000:\n",
    "    print(\"EMI options available\")\n",
    "else:\n",
    "    print(\"EMI not applicable\")"
   ]
  },
  {
   "cell_type": "markdown",
   "metadata": {},
   "source": [
    "## [10. Check COD Availability by Pin Code](#cell10) <a id=\"cell10a\"></a>"
   ]
  },
  {
   "cell_type": "markdown",
   "metadata": {},
   "source": [
    "## 📮 Requirement: COD Availability Based on Pin Code\n",
    "\n",
    "### 🎯 Objective:\n",
    "\n",
    "- Check whether Cash on Delivery (COD) is available for the user's entered pin code.\n",
    "\n",
    "### 🚀 Workflow: COD Availability Check\n",
    "\n",
    "1. **Define pin codes**: Create a list of pin codes where COD is available.  \n",
    "2. **Take input**: Ask user to enter their delivery pin code.  \n",
    "3. **Convert to int**: Convert the input to an integer.  \n",
    "4. **Check availability**: See if the entered pin code is in the COD list.  \n",
    "5. **If available**: Print \"COD available\".  \n",
    "6. **If not available**: Print \"COD not available in your area\".\n"
   ]
  },
  {
   "cell_type": "code",
   "execution_count": 22,
   "metadata": {},
   "outputs": [
    {
     "name": "stdout",
     "output_type": "stream",
     "text": [
      "COD available\n"
     ]
    }
   ],
   "source": [
    "cod_available_pins = [110001, 560001, 400001]\n",
    "\n",
    "pin_code = 110001\n",
    "if pin_code in cod_available_pins:\n",
    "    print(\"COD available\")\n",
    "else:\n",
    "    print(\"COD not available in your area\")"
   ]
  },
  {
   "cell_type": "code",
   "execution_count": 23,
   "metadata": {},
   "outputs": [
    {
     "name": "stdout",
     "output_type": "stream",
     "text": [
      "COD not available in your area\n"
     ]
    }
   ],
   "source": [
    "cod_available_pins = [110001, 560001, 400001]\n",
    "\n",
    "pin_code = 12345\n",
    "if pin_code in cod_available_pins:\n",
    "    print(\"COD available\")\n",
    "else:\n",
    "    print(\"COD not available in your area\")"
   ]
  },
  {
   "cell_type": "markdown",
   "metadata": {},
   "source": [
    "# <h2 style=\"color: #28a745;\">🚀 Keep Going!</h2>\n",
    "<p style=\"font-size:16px; color: #555555;\">\n",
    "<strong>Wishing you all the best on your journey to becoming a great coder! 💻✨</strong>\n",
    "</p>\n"
   ]
  },
  {
   "cell_type": "code",
   "execution_count": null,
   "metadata": {},
   "outputs": [],
   "source": []
  }
 ],
 "metadata": {
  "kernelspec": {
   "display_name": "Python 3 (ipykernel)",
   "language": "python",
   "name": "python3"
  },
  "language_info": {
   "codemirror_mode": {
    "name": "ipython",
    "version": 3
   },
   "file_extension": ".py",
   "mimetype": "text/x-python",
   "name": "python",
   "nbconvert_exporter": "python",
   "pygments_lexer": "ipython3",
   "version": "3.11.1"
  }
 },
 "nbformat": 4,
 "nbformat_minor": 4
}
